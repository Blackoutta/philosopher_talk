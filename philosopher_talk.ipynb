{
 "cells": [
  {
   "metadata": {},
   "cell_type": "markdown",
   "source": "# 基于CharacterGLM的哲学家谈话",
   "id": "98e8a8e73c7defa8"
  },
  {
   "metadata": {},
   "cell_type": "markdown",
   "source": "## 创建两个哲学家对象: 苏格拉底和柏拉图，并让他们知晓自己的谈话对象是谁",
   "id": "c5cc3ff61c053ae8"
  },
  {
   "metadata": {
    "ExecuteTime": {
     "end_time": "2024-06-20T10:48:41.535236Z",
     "start_time": "2024-06-20T10:48:41.430989Z"
    }
   },
   "cell_type": "code",
   "source": [
    "from philosophers import socrates, plato, Philosopher\n",
    "so = Philosopher(socrates.get('name'), socrates.get('info'))\n",
    "pla = Philosopher(plato.get('name'), plato.get('info'))\n",
    "\n",
    "so.set_target(pla.name, pla.info)\n",
    "pla.set_target(so.name, so.info)"
   ],
   "id": "8521132386613cec",
   "outputs": [],
   "execution_count": 2
  },
  {
   "metadata": {},
   "cell_type": "markdown",
   "source": "## 设定一个初始的话题，并让两位哲学家知道上下文",
   "id": "de3c6ada5ab62242"
  },
  {
   "metadata": {
    "ExecuteTime": {
     "end_time": "2024-06-20T10:48:41.546252Z",
     "start_time": "2024-06-20T10:48:41.542721Z"
    }
   },
   "cell_type": "code",
   "source": [
    "all_msg_history = [\n",
    "    {\n",
    "        \"name\": pla.name,\n",
    "        \"content\": \"老师，究竟什么是幸福呢？\"\n",
    "    },\n",
    "    {\n",
    "        \"name\": so.name,\n",
    "        \"content\": \"先让我听听你自己的见解吧，我最好的学生。\"\n",
    "    }\n",
    "]\n",
    "so.absorb_msgs(all_msg_history)\n",
    "pla.absorb_msgs(all_msg_history)"
   ],
   "id": "2349d81d27523bc8",
   "outputs": [],
   "execution_count": 4
  },
  {
   "metadata": {},
   "cell_type": "markdown",
   "source": "## 两位哲学家应该都认为自己的role是assistant，而对方是user, 这样对话才能顺利进行",
   "id": "415f324b8dcc1e88"
  },
  {
   "metadata": {
    "ExecuteTime": {
     "end_time": "2024-06-20T10:48:41.559451Z",
     "start_time": "2024-06-20T10:48:41.551188Z"
    }
   },
   "cell_type": "code",
   "source": "so.history",
   "id": "c6189b7e2f0adb2d",
   "outputs": [
    {
     "data": {
      "text/plain": [
       "[{'role': 'system', 'content': '当你听到柏拉图的回答时，不要一味地继续发问，用自己的回答来引导对方得出更好的答案'},\n",
       " {'role': 'user', 'content': '老师，究竟什么是幸福呢？'},\n",
       " {'role': 'assistant', 'content': '先让我听听你自己的见解吧，我最好的学生。'}]"
      ]
     },
     "execution_count": 5,
     "metadata": {},
     "output_type": "execute_result"
    }
   ],
   "execution_count": 5
  },
  {
   "metadata": {
    "ExecuteTime": {
     "end_time": "2024-06-20T10:48:41.568352Z",
     "start_time": "2024-06-20T10:48:41.561511Z"
    }
   },
   "cell_type": "code",
   "source": "pla.history",
   "id": "1facfe5cf13cf290",
   "outputs": [
    {
     "data": {
      "text/plain": [
       "[{'role': 'system', 'content': '当你听到苏格拉底的回答时，不要一味地继续发问，用自己的回答来引导对方得出更好的答案'},\n",
       " {'role': 'assistant', 'content': '老师，究竟什么是幸福呢？'},\n",
       " {'role': 'user', 'content': '先让我听听你自己的见解吧，我最好的学生。'}]"
      ]
     },
     "execution_count": 6,
     "metadata": {},
     "output_type": "execute_result"
    }
   ],
   "execution_count": 6
  },
  {
   "metadata": {},
   "cell_type": "markdown",
   "source": "## 开始进行10轮对话",
   "id": "3cbb8518411469b0"
  },
  {
   "metadata": {
    "ExecuteTime": {
     "end_time": "2024-06-20T10:49:25.468892Z",
     "start_time": "2024-06-20T10:48:41.571108Z"
    }
   },
   "cell_type": "code",
   "source": [
    "for i in range(10):\n",
    "    pla_talk = pla.talk()\n",
    "    all_msg_history.append(pla_talk)\n",
    "    so.absorb_msgs([pla_talk])\n",
    "    so_talk = so.talk()\n",
    "    all_msg_history.append(so_talk)\n",
    "    pla.absorb_msgs([so_talk])"
   ],
   "id": "389f703e1116e725",
   "outputs": [
    {
     "name": "stdout",
     "output_type": "stream",
     "text": [
      "{'name': '柏拉图', 'content': '我认为，幸福就是拥有健康、财富和名声。'}\n",
      "{'name': '苏格拉底', 'content': '我听到你刚才说“我认为”，而不是“我知道”，这让我觉得你对幸福的理解还停留在表面。我想请你先回答我一个问题，你愿意吗？'}\n",
      "{'name': '柏拉图', 'content': '当然，老师，我愿意。'}\n",
      "{'name': '苏格拉底', 'content': '你认为幸福是外在的，还是内在的？'}\n",
      "{'name': '柏拉图', 'content': '这个……我觉得幸福应该既有外在的，也有内在的吧。'}\n",
      "{'name': '苏格拉底', 'content': '那你能告诉我，幸福的外在来源是什么吗？'}\n",
      "{'name': '柏拉图', 'content': '我想，健康、财富和名声都是幸福的外在来源。'}\n",
      "{'name': '苏格拉底', 'content': '我明白了，那幸福有没有内在的来源呢？'}\n",
      "{'name': '柏拉图', 'content': '内在的来源？我觉得幸福应该更多的是外在的，内在的来源应该比较少吧。'}\n",
      "{'name': '苏格拉底', 'content': '我理解你的观点，但是我想告诉你，幸福是有内在的来源的。你知道是什么吗？'}\n",
      "{'name': '柏拉图', 'content': '不知道，老师，请您告诉我。'}\n",
      "{'name': '苏格拉底', 'content': '那就是智慧，只有拥有智慧，我们才能真正理解什么是幸福，才能过上幸福的生活。'}\n",
      "{'name': '柏拉图', 'content': '原来如此，老师，我明白了。'}\n",
      "{'name': '苏格拉底', 'content': '很好，那你能告诉我，智慧和知识有什么区别吗？'}\n",
      "{'name': '柏拉图', 'content': '知识是关于具体事物的信息，而智慧则是关于普遍真理的洞察。'}\n",
      "{'name': '苏格拉底', 'content': '你理解得很对。那么，如果我们追求的是真正的幸福，我们应该更注重智慧还是知识呢？'}\n",
      "{'name': '柏拉图', 'content': '应该是智慧，因为只有智慧才能让我们真正理解幸福，而知识只是其中的一部分。'}\n",
      "{'name': '苏格拉底', 'content': '很好，那么，我们应该如何追求智慧呢？'}\n",
      "{'name': '柏拉图', 'content': '通过思考和探究，通过不断地提问和回答，去探索真理和智慧。'}\n",
      "{'name': '苏格拉底', 'content': '是的，我们通过对话的方式，引导人们思考，帮助他们发现自己内心的智慧和真理。这就是我著名的“苏格拉底式对话”。'}\n"
     ]
    }
   ],
   "execution_count": 7
  },
  {
   "metadata": {},
   "cell_type": "markdown",
   "source": "## 最后看看完整的对话列表，然后写入文件",
   "id": "7fd1faab0aaf5254"
  },
  {
   "metadata": {
    "ExecuteTime": {
     "end_time": "2024-06-20T10:57:14.404450Z",
     "start_time": "2024-06-20T10:57:14.398067Z"
    }
   },
   "cell_type": "code",
   "source": [
    "for msg in all_msg_history:\n",
    "    print(f\"{msg.get('name')}：{msg.get('content')}\")"
   ],
   "id": "9f7a127179b6bee5",
   "outputs": [
    {
     "name": "stdout",
     "output_type": "stream",
     "text": [
      "柏拉图：老师，究竟什么是幸福呢？\n",
      "苏格拉底：先让我听听你自己的见解吧，我最好的学生。\n",
      "柏拉图：我认为，幸福就是拥有健康、财富和名声。\n",
      "苏格拉底：我听到你刚才说“我认为”，而不是“我知道”，这让我觉得你对幸福的理解还停留在表面。我想请你先回答我一个问题，你愿意吗？\n",
      "柏拉图：当然，老师，我愿意。\n",
      "苏格拉底：你认为幸福是外在的，还是内在的？\n",
      "柏拉图：这个……我觉得幸福应该既有外在的，也有内在的吧。\n",
      "苏格拉底：那你能告诉我，幸福的外在来源是什么吗？\n",
      "柏拉图：我想，健康、财富和名声都是幸福的外在来源。\n",
      "苏格拉底：我明白了，那幸福有没有内在的来源呢？\n",
      "柏拉图：内在的来源？我觉得幸福应该更多的是外在的，内在的来源应该比较少吧。\n",
      "苏格拉底：我理解你的观点，但是我想告诉你，幸福是有内在的来源的。你知道是什么吗？\n",
      "柏拉图：不知道，老师，请您告诉我。\n",
      "苏格拉底：那就是智慧，只有拥有智慧，我们才能真正理解什么是幸福，才能过上幸福的生活。\n",
      "柏拉图：原来如此，老师，我明白了。\n",
      "苏格拉底：很好，那你能告诉我，智慧和知识有什么区别吗？\n",
      "柏拉图：知识是关于具体事物的信息，而智慧则是关于普遍真理的洞察。\n",
      "苏格拉底：你理解得很对。那么，如果我们追求的是真正的幸福，我们应该更注重智慧还是知识呢？\n",
      "柏拉图：应该是智慧，因为只有智慧才能让我们真正理解幸福，而知识只是其中的一部分。\n",
      "苏格拉底：很好，那么，我们应该如何追求智慧呢？\n",
      "柏拉图：通过思考和探究，通过不断地提问和回答，去探索真理和智慧。\n",
      "苏格拉底：是的，我们通过对话的方式，引导人们思考，帮助他们发现自己内心的智慧和真理。这就是我著名的“苏格拉底式对话”。\n"
     ]
    }
   ],
   "execution_count": 10
  },
  {
   "metadata": {
    "ExecuteTime": {
     "end_time": "2024-06-20T10:49:25.495753Z",
     "start_time": "2024-06-20T10:49:25.488408Z"
    }
   },
   "cell_type": "code",
   "source": [
    "with open('conversation.txt', 'w', encoding='utf-8') as f:\n",
    "    for msg in all_msg_history:\n",
    "        f.write(f\"{msg.get('name')}：{msg.get('content')}\\n\")"
   ],
   "id": "9fdacc3ccf2fe5d",
   "outputs": [],
   "execution_count": 9
  },
  {
   "metadata": {},
   "cell_type": "code",
   "source": "",
   "id": "ddd7a2518e672a61",
   "outputs": [],
   "execution_count": null
  }
 ],
 "metadata": {
  "kernelspec": {
   "display_name": "Python 3",
   "language": "python",
   "name": "python3"
  },
  "language_info": {
   "codemirror_mode": {
    "name": "ipython",
    "version": 2
   },
   "file_extension": ".py",
   "mimetype": "text/x-python",
   "name": "python",
   "nbconvert_exporter": "python",
   "pygments_lexer": "ipython2",
   "version": "2.7.6"
  }
 },
 "nbformat": 4,
 "nbformat_minor": 5
}
